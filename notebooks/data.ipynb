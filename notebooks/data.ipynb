{
 "cells": [
  {
   "cell_type": "code",
   "execution_count": 7,
   "id": "59262375",
   "metadata": {},
   "outputs": [
    {
     "name": "stdout",
     "output_type": "stream",
     "text": [
      "                                             english  \\\n",
      "0                                   God is with us.\"   \n",
      "1         O Reason, thou (alone) speakest the truth.   \n",
      "2                        Are we not on Haq (truth)?\"   \n",
      "3              And said, 'Bring him in immediately.'   \n",
      "4  She said, \"The women are the ones who write th...   \n",
      "\n",
      "                                           ukrainian  \n",
      "0                                     Аллах з нами!»  \n",
      "1  Наприклад, ти (tu) при ввічливому зверненні пе...  \n",
      "2                    Ми не якась там попсова група!»  \n",
      "3          Мухаммад сказав: - Покличте його до себе.  \n",
      "4  Вона сказала: «Жінки — це ті, хто пише історію...  \n"
     ]
    }
   ],
   "source": [
    "import pandas as pd\n",
    "\n",
    "with open('/home/snt/projects_lujun/mt_reasoning/data/eng-ukr-Facebook-wikimatrix-1-eng-ukr/train-parts/Facebook-wikimatrix-1-eng-ukr.eng', 'r', encoding='utf-8') as f:\n",
    "    eng_lines = [line.strip() for line in f]\n",
    "\n",
    "with open('/home/snt/projects_lujun/mt_reasoning/data/eng-ukr-Facebook-wikimatrix-1-eng-ukr/train-parts/Facebook-wikimatrix-1-eng-ukr.ukr', 'r', encoding='utf-8') as f:\n",
    "    ukr_lines = [line.strip() for line in f]\n",
    "\n",
    "df = pd.DataFrame({\n",
    "    'english': eng_lines,\n",
    "    'ukrainian': ukr_lines\n",
    "})\n",
    "\n",
    "print(df.head())\n"
   ]
  },
  {
   "cell_type": "code",
   "execution_count": null,
   "id": "ffb56f36",
   "metadata": {},
   "outputs": [
    {
     "name": "stdout",
     "output_type": "stream",
     "text": [
      "length_range\n",
      "0-9         11002\n",
      "10-19       75130\n",
      "20-29      133154\n",
      "30-39      187285\n",
      "40-49      220324\n",
      "50-74      554566\n",
      "75-99      439359\n",
      "100-149    539359\n",
      "150-199    243560\n",
      "200-299    137515\n",
      "300-499     28820\n",
      "500-999      4681\n",
      "Name: count, dtype: int64\n"
     ]
    }
   ],
   "source": [
    "import pandas as pd\n",
    "import matplotlib.pyplot as plt\n",
    "import seaborn as sns\n",
    "\n",
    "df[\"sentence_length\"] = df[\"english\"].str.len()\n",
    "\n",
    "bins = [0, 10, 20, 30, 40, 50, 75, 100, 150, 200, 300, 500, 1000]\n",
    "labels = [f\"{bins[i]}-{bins[i+1]-1}\" for i in range(len(bins)-1)]\n",
    "\n",
    "df[\"length_range\"] = pd.cut(df[\"sentence_length\"], bins=bins, labels=labels, right=False)\n",
    "length_counts = df[\"length_range\"].value_counts().sort_index()\n",
    "\n",
    "print(length_counts)\n"
   ]
  },
  {
   "cell_type": "code",
   "execution_count": 13,
   "id": "5902284a",
   "metadata": {},
   "outputs": [
    {
     "name": "stdout",
     "output_type": "stream",
     "text": [
      "137515\n"
     ]
    }
   ],
   "source": [
    "filtered_df = df[(df[\"sentence_length\"] >= 200) & (df[\"sentence_length\"] < 300)]\n",
    "print(len(filtered_df))\n"
   ]
  },
  {
   "cell_type": "code",
   "execution_count": 17,
   "id": "0a0ebb81",
   "metadata": {},
   "outputs": [
    {
     "data": {
      "application/vnd.microsoft.datawrangler.viewer.v0+json": {
       "columns": [
        {
         "name": "index",
         "rawType": "int64",
         "type": "integer"
        },
        {
         "name": "english",
         "rawType": "object",
         "type": "string"
        },
        {
         "name": "translated_text",
         "rawType": "object",
         "type": "string"
        },
        {
         "name": "sentence_length",
         "rawType": "int64",
         "type": "integer"
        },
        {
         "name": "length_range",
         "rawType": "category",
         "type": "unknown"
        },
        {
         "name": "dataset",
         "rawType": "object",
         "type": "string"
        },
        {
         "name": "translation_source",
         "rawType": "object",
         "type": "string"
        }
       ],
       "ref": "08998fe5-5817-40b8-bf21-6ccbfec8021a",
       "rows": [
        [
         "2262",
         "Triana, Triana qué bonita está Triana, (Triana, how beautiful it is!) qué bonita esté Triana, que bonita esta Triana cuando le ponen al puente la banderita gitana (when we put the gypsy banners on the bridge.)",
         "Triana, Triana qué bonita está Triana, (Тріана, як це гарно!) qué bonita esté Triana, que bonita esta Triana cuando le ponen al puente la banderita gitana (коли ми покладемо циганські прапори на міст.)",
         "209",
         "200-299",
         "Facebook-wikimatrix-1-eng-ukr-filtered-from-200-to-299",
         "Facebook"
        ],
        [
         "2617",
         "In countries such as Greece and Spain many Bulgarians work and stay there intermittently while retaining Bulgaria as their permanent residence, especially after the country became a European Union member state in 2007.",
         "У таких країнах, як Греція та Іспанія, багато болгар працюють і живуть лише періодично, зберігаючи Болгарію як місце свого постійного проживання, особливо після того, як країна стала членом Європейського союзу у 2007 році.",
         "218",
         "200-299",
         "Facebook-wikimatrix-1-eng-ukr-filtered-from-200-to-299",
         "Facebook"
        ],
        [
         "4464",
         "For example, Fierlbeck (1998: 12) points out that the middle class majority in a country may decide to redistribute wealth and resources into the hands of those that they feel are most capable of investing or increasing them.",
         "Наприклад, Fierlbeck (1998: 12), вказує, що більшість середнього класу в країні може вирішити перерозподілити багатство і ресурси в руки тих, хто на їхню думку, є найбільш здатними до інвестування або збільшення їх ресурсів.",
         "225",
         "200-299",
         "Facebook-wikimatrix-1-eng-ukr-filtered-from-200-to-299",
         "Facebook"
        ],
        [
         "4792",
         "2003 was the first time in fifty years that laws regarding access to abortion were made stricter; every other piece of legislation on the topic in both the Soviet Union and the Russian Federation was to grant women easier access.",
         "2003 року вперше за п'ятдесят років закони, що стосуються доступу до аборту, стали суворішими; будь-який інший законодавчий акт на цю тему в Радянському Союзі та Російській Федерації надавав жінкам легший доступ.",
         "229",
         "200-299",
         "Facebook-wikimatrix-1-eng-ukr-filtered-from-200-to-299",
         "Facebook"
        ],
        [
         "4841",
         "According to the energy Progress Reports submitted by EU member states (as well as Norway and Iceland) to the European Commission, by 2014 renewable energy provided 38.4% of the energy consumed in the heating sector.",
         "Згідно зі звітами про енергетичну діяльність, представленими членами ЄС (а також Норвегією та Ісландією) до Європейської комісії, відновлювальна енергетика до 2014 року забезпечила 38,4% енергії, спожитої в секторі нагрівання.",
         "216",
         "200-299",
         "Facebook-wikimatrix-1-eng-ukr-filtered-from-200-to-299",
         "Facebook"
        ],
        [
         "4922",
         "The results of this research have been published in many books, newspapers, and magazines, and the Social Security Administration now officially publishes a new list every year of the previous year's most popular names, along with all the previous years' names.",
         "Результати цього дослідження були опубліковані в багатьох книгах, газетах і журналах, а Адміністрація з питань соціального забезпечення зараз офіційно публікує щороку новий список найпопулярніших імен за попередній рік, разом з іменами за всі попередні роки.",
         "261",
         "200-299",
         "Facebook-wikimatrix-1-eng-ukr-filtered-from-200-to-299",
         "Facebook"
        ],
        [
         "5407",
         "Two surveys were conducted among white South Africans, in 1993 and 1996, asking the question \"How do you feel about demarcating an area for Afrikaners and other \"European\" South Africans in which they may enjoy self determination?",
         "Два дослідження були проведені серед білих південноафриканців, в 1993 і 1996 роках, задаючи питання: \"Як ви ставитеся до розмежування області для африканерів та інших європейських жителів Південної Африки, в яких вони можуть користуватися самовизначенням?",
         "230",
         "200-299",
         "Facebook-wikimatrix-1-eng-ukr-filtered-from-200-to-299",
         "Facebook"
        ],
        [
         "5721",
         "Only a few of the newspapers of the United States can print the Message in full, and I am anxious that the American people be given an opportunity to hear what I have recommended to the Congress for this very fateful year in our history — and the reasons for those recommendations.",
         "Лише деякі з газет Сполучених Штатів можуть друкувати повідомлення в повному обсязі, і я хочу, щоб американський народ отримав можливість почути те, що я рекомендував Конгресу на цей доленосний рік в нашій історії — і про причини цих рекомендацій.",
         "281",
         "200-299",
         "Facebook-wikimatrix-1-eng-ukr-filtered-from-200-to-299",
         "Facebook"
        ],
        [
         "5729",
         "Although we should have friendship for both truth and our fellow man, we ought rather to love truth because we should love our fellow man especially on account of truth and virtue, as will be shown in the eighth book (1575-1577).",
         "Хоча ми повинні товаришувати і з істиною, і з нашими близькими, ми повинні радше любити істину, тому що ми повинні любити наших близьких особливо через істину і чесноти, як буде показано у восьмій книзі (1575—1577).",
         "229",
         "200-299",
         "Facebook-wikimatrix-1-eng-ukr-filtered-from-200-to-299",
         "Facebook"
        ],
        [
         "6005",
         "Other related sources are as follows: Directive 2003/37/EC of 26 May 2003 on type approval of agricultural or forestry tractors, their trailers and interchangeable towed machinery, together with their systems, components and separate technical units and repealing Directive 74/150/EEC.",
         "Визначення для цих транспортних засобів встановлені у Додатку ІІ до «Директиви 2003/37/EC Європарламенту та Ради від 26 травня 2003, стосовно офіційного затвердження типу сільськогосподарських та лісогосподарських тракторів, їх причепів та змінних причіпних механізмів, а також, їх систем, складових частин і окремих технічних пристроїв, та яка заміняє Директиву 74/150/EEC» (англ. Directive 2003/37/EC of The European Parliament and of The Council of 26 May 2003 on type-approval of agricultural or forestry tractors, their trailers and interchangeable towed machinery, together with their systems, components and separate technical units and repealing Directive 74/150/EEC).",
         "285",
         "200-299",
         "Facebook-wikimatrix-1-eng-ukr-filtered-from-200-to-299",
         "Facebook"
        ],
        [
         "6057",
         "However, those promoting secession used not only elements from U.S. history such as the American Revolution and the Constitution, but also the Texas Revolution and elements from the history of the Republic of Texas.",
         "Проте, ті розколи використовували не тільки елементи з історії США, наприклад, американської революції і Конституції, а й Техаської революції і елементи з історії Республіки Техас.",
         "215",
         "200-299",
         "Facebook-wikimatrix-1-eng-ukr-filtered-from-200-to-299",
         "Facebook"
        ],
        [
         "6142",
         "The US Food and Drug Administration Center for Tobacco Products reported between 2008 and the beginning of 2012, 47 cases of adverse effects associated with e-cigarettes, of which eight were considered serious.",
         "У Центрі тютюнових продуктів в Управлінні продовольства і медикаментів (США) повідомили, що між 2008 роком і початком 2012 року було зафіксовано 47 випадків несприятливих побічних ефектів, що були пов'язані із електронними сигаретами; вісім з цих випадків були серйозно розглянуті.",
         "210",
         "200-299",
         "Facebook-wikimatrix-1-eng-ukr-filtered-from-200-to-299",
         "Facebook"
        ],
        [
         "6174",
         "In his work he put forward the idea of creating the United States of Europe as a confederation of 75 states that would be formed according to an ethnic and linguistic principle with a population of 5 to 10 million people.",
         "У своїй роботі він висував ідею створення Сполучених Штатів Європи як конфедерації 75 держав, що були б сформовані за етнічним і лінгвістичним принципом з населенням від 5 до 10 мільйонів чоловік у кожній.",
         "221",
         "200-299",
         "Facebook-wikimatrix-1-eng-ukr-filtered-from-200-to-299",
         "Facebook"
        ],
        [
         "6264",
         "Another tradition is to make a list of all the bad or unhappy events over the past 12 months; before midnight, this list is thrown into a fire, symbolizing the removal of negative energy from the new year.",
         "Інший звичай полягає у тому, щоби скласти список усіх поганих або нещасливих подій за останні 12 місяців; до опівночі цей список кидається у вогонь, що символізує видалення негативної енергії з Нового року .",
         "205",
         "200-299",
         "Facebook-wikimatrix-1-eng-ukr-filtered-from-200-to-299",
         "Facebook"
        ],
        [
         "6538",
         "Research by the State Institute for Family and Youth Issues indicates that, for many women, sex work has become the only adequate source of income: more than 50% of them support their children and parents.",
         "Дослідження, проведені українським Державним інститутом проблем сім'ї та молоді показує, що для багатьох жінок, секс-бізнес став єдиним адекватним джерелом доходу: 50 % з них підтримують своїх дітей та батьків.",
         "205",
         "200-299",
         "Facebook-wikimatrix-1-eng-ukr-filtered-from-200-to-299",
         "Facebook"
        ],
        [
         "6593",
         "It is only when he is on his way to Mars that he finds out he will have to impersonate one of the most prominent politicians in the solar system (and one with whose views Smith deeply disagrees): John Joseph Bonforte.",
         "Лише тоді, коли він перебуває на шляху до Марса, що він дізнається, що йому доведеться вдавати з себе одного з найяскравіших політиків у Сонячній системі (і того, з чиїми поглядами Сміт глибоко не згоден): Джона Джозефа Бонфорта.",
         "217",
         "200-299",
         "Facebook-wikimatrix-1-eng-ukr-filtered-from-200-to-299",
         "Facebook"
        ],
        [
         "6661",
         "That's because the only two remaining outcomes for this random experiment are: On the other hand, if you know that both today and yesterday's balls were red, then you are guaranteed to get a green ball tomorrow.",
         "Це тому, що для цього випадкового експерименту лишилося лише два результати: З іншого боку, якщо ви знаєте, що як сьогоднішня, так і вчорашня кулі були червоними, тоді вам гарантовано отримати завтра зелену кулю.",
         "211",
         "200-299",
         "Facebook-wikimatrix-1-eng-ukr-filtered-from-200-to-299",
         "Facebook"
        ],
        [
         "6772",
         "According to the International Trade Union Confederation and the International Transport Workers’ Federation: \"The government of South Korea and its anti-union behaviour is again in the spotlight of the international community.",
         "За даними Міжнародної конфедерації профспілок і Міжнародної федерації працівників транспорту: \"Уряд Південної Кореї і її антипрофсоюзна поведінка знову в центрі уваги міжнародної спільноти.",
         "227",
         "200-299",
         "Facebook-wikimatrix-1-eng-ukr-filtered-from-200-to-299",
         "Facebook"
        ],
        [
         "6914",
         "However, in a different survey in late 2008, only 21% responded that they or anyone living in their household had paid a bribe in any form in the previous 12 months; comparable figures for the U.S. and UK were 2% and 3% respectively.",
         "Проте, в іншому опитуванні в кінці 2008 року, тільки 21 % відповіли, що вони або члени їх сім'ї платили хабар у будь-якій формі в попередні 12 місяців; зіставні показники для США і Великої Британії були 2 % і 3 % відповідно.",
         "233",
         "200-299",
         "Facebook-wikimatrix-1-eng-ukr-filtered-from-200-to-299",
         "Facebook"
        ],
        [
         "6988",
         "The Oracle (Coldplay's web site Question and Answer section) responded on 9 June 2011 to a question raised concerning its inspiration and collaboration: I don't think people are quite understanding the song's composition.",
         "На Оракулі (розділі питань і відповідей на офіційному сайті Coldplay) відповіли 9 червня 2011 на питання щодо натхнення та співробітництва: Я не думаю, що люди добре розуміють композицію пісні.",
         "221",
         "200-299",
         "Facebook-wikimatrix-1-eng-ukr-filtered-from-200-to-299",
         "Facebook"
        ],
        [
         "7003",
         "Starting in May 2009, the Albanian Government, as part of a larger project to modernize and bring to the best international standards, has started issuing biometric passport and biometric ID card for its citizens.",
         "Починаючи з травня 2009 року, албанський уряд, як частина більшого проекту з модернізації та доведення до найкращих міжнародних стандартів, почав видавати біометричні паспорти і біометричні ідентифікаційні карти своїм громадянам.",
         "213",
         "200-299",
         "Facebook-wikimatrix-1-eng-ukr-filtered-from-200-to-299",
         "Facebook"
        ],
        [
         "7037",
         "Suffice it to say that the number of records and documents from Azerbaijan in the Pahlavi language are so numerous that there is little doubt that this was indeed the native tongue of Azerbaijan before the arrival of the Turks.",
         "Досить сказати, що кількість записів і документів з Азербайджану мовою пехлеві настільки значна, що практично немає сумнівів у тому, що це була рідна мова Азербайджану до приходу тюрків.",
         "227",
         "200-299",
         "Facebook-wikimatrix-1-eng-ukr-filtered-from-200-to-299",
         "Facebook"
        ],
        [
         "7120",
         "As it turned out, the Americans found that it was easier to deal with Japanese authorities in regards to the handling of Korea, instead of dealing directly with Korea's many different political factions.",
         "Як виявилося, американці виявили, що легше мати справу з японською владою щодо поводження з Кореєю, замість того, щоб мати справу безпосередньо з багатьма різними політичними угрупованнями Кореї.",
         "203",
         "200-299",
         "Facebook-wikimatrix-1-eng-ukr-filtered-from-200-to-299",
         "Facebook"
        ],
        [
         "7211",
         "Though, until the early 1980s, this extremely bureaucratic organization arrangement (involving challenging, complex and slower decision-making) was considered adequate to manage a vast number of employees.",
         "Хоча до початку 1980-х років ця надзвичайно бюрократична організаційна домовленість (що включає складні, комплексні і повільні процеси прийняття рішень) вважалася адекватною для управління величезною кількістю співробітників.",
         "205",
         "200-299",
         "Facebook-wikimatrix-1-eng-ukr-filtered-from-200-to-299",
         "Facebook"
        ],
        [
         "7225",
         "In 2006 and 2012, Computerworld surveys found that over 60% of organizations used COBOL (more than C++ and Visual Basic .NET) and that for half of those, COBOL was used for the majority of their internal software.",
         "У 2006 і 2012, огляди Computerworld виявили, що більш ніж 60% організацій використовують COBOL (більш ніж C++ і Visual Basic .NET), і що для половини з них, COBOL використовувався для більшості їх внутрішнього програмного забезпечення.",
         "213",
         "200-299",
         "Facebook-wikimatrix-1-eng-ukr-filtered-from-200-to-299",
         "Facebook"
        ],
        [
         "7301",
         "In addition, an MEP may be part of an international delegation and have meetings with outside delegations coming to Brussels or Strasbourg or visiting committees or parliaments of external countries or regions.",
         "Крім того, європарламентар може бути членом міжнародної делегації і зустрічатися з іноземними делегаціями, що приїжджають до Брюсселя чи Страсбурга, або відвідувати комітети чи парламенти іноземних держав та областей.",
         "210",
         "200-299",
         "Facebook-wikimatrix-1-eng-ukr-filtered-from-200-to-299",
         "Facebook"
        ],
        [
         "7450",
         "In North America, which is five to nine hours behind British Summer Time, the wedding occurred during the time usually taken up by network breakfast television programmes, which expanded their normal length to allow for full coverage.",
         "У Північній Америці, яка відстає на п'ять-дев'ять годин від британського часу, весілля сталося під час ранкових телепрограм, які збільшили свою звичайну тривалість для повного висвітлення.",
         "234",
         "200-299",
         "Facebook-wikimatrix-1-eng-ukr-filtered-from-200-to-299",
         "Facebook"
        ],
        [
         "7548",
         "In it, he claims that the 11th of January, 2015 marches to show solidarity with the victims of recent terrorist attacks in France were not an expression of positive French values but of racist and reactionary elements in France.",
         "У ній він стверджує, що 11 січня 2015 року події, що демонструють солідарність з жертвами нещодавніх терористичних нападів у Франції, не були вираженням позитивних французьких цінностей, а расистськими та реакційними елементами у Франції.",
         "228",
         "200-299",
         "Facebook-wikimatrix-1-eng-ukr-filtered-from-200-to-299",
         "Facebook"
        ],
        [
         "7665",
         "It is widely recognized that without the contribution of the Internet and social media networks such as Twitter and Facebook recent political events such as the Arab Spring could not have occurred, or at least not to the same extent.",
         "Широко визнано, що без вкладу Інтернету та соціальних медіа мереж, таких як Twitter і Facebook, недавні політичні події, такі як Арабська весна не змогли б трапитися, принаймні у такому масштабі .",
         "233",
         "200-299",
         "Facebook-wikimatrix-1-eng-ukr-filtered-from-200-to-299",
         "Facebook"
        ],
        [
         "8150",
         "He is currently working on a book (with George Lawson) on why the discipline of international relations needs to pay much more attention than it does to the global transformation to modernity that took place during the 19th century.",
         "В даний час він працює над книгою (з Джорджем Lawson) про те, чому дисципліна міжнародних відносин необхідно приділяти набагато більше уваги, ніж це робить до глобальної трансформації до сучасності, які мали місце в 19-м столітті.",
         "232",
         "200-299",
         "Facebook-wikimatrix-1-eng-ukr-filtered-from-200-to-299",
         "Facebook"
        ],
        [
         "8190",
         "Goodman was eventually permitted to enter Canada after the customs authorities took four photographs of her and stapled a \"control document\" into her passport demanding that she leave Canada within 48 hours.",
         "Гудману в кінцевому підсумку було дозволено в'їхати до Канади після того, як митні органи взяли на неї чотири фотографії та закріпили в її паспорті «Контрольний документ», який вимагав, щоб вона виїхала з Канади протягом 48 годин.",
         "207",
         "200-299",
         "Facebook-wikimatrix-1-eng-ukr-filtered-from-200-to-299",
         "Facebook"
        ],
        [
         "8265",
         "The participants of the debate stressed the need to continue the sanctions pressure on the Kremlin, and European leaders and diplomats urged not to attend the World Cup, which opens June 14 in Russia.",
         "Учасники дебатів наголосили на необхідності продовження санкційного тиску на Кремль, а європейських лідерів та дипломатів закликали не відвідувати чемпіонат світу з футболу, який відкривається 14 червня в Росії.",
         "200",
         "200-299",
         "Facebook-wikimatrix-1-eng-ukr-filtered-from-200-to-299",
         "Facebook"
        ],
        [
         "8521",
         "This document formulated and signed by more than 300 environmentalists from the German Democratic Republic and the Federal Republic of Germany initiated the first conservation projects targeting the inner German border.",
         "Цей документ був сформульований і підписаний більш ніж 300 екологами з Німецької Демократичної Республіки і Федеративної Республіки Німеччина, які ініціювали перші проекти, спрямовані на збереження внутрішнього німецького кордону.",
         "219",
         "200-299",
         "Facebook-wikimatrix-1-eng-ukr-filtered-from-200-to-299",
         "Facebook"
        ],
        [
         "8625",
         "On 15 May 2008, after discussions lasting for many years, the state agency Three New Brothers and the Union of National Construction Companies signed the contract on the construction of the new National Library of Latvia.",
         "15 травня 2008, після обговорення, які тривали протягом багатьох років, державне агентство Три Нових Брата і Союз Національних Будівельних Компаній підписали контракт на будівництво нової Національної бібліотеки Латвії.",
         "221",
         "200-299",
         "Facebook-wikimatrix-1-eng-ukr-filtered-from-200-to-299",
         "Facebook"
        ],
        [
         "8677",
         "On July 15, 2009, the Bosnian Minister of Civil Affairs announced that Bosnia and Herzegovina will begin issuing biometric passports on October 15, 2009, when a larger amount of passports will be delivered from German producer Bundesdruckerei.",
         "15 липня 2009 року міністр цивільних справ Боснії оголосив, що Боснія і Герцеговина розпочне видавати біометричні паспорти 15 жовтня 2009 року, коли більша кількість паспортів буде доставлена від німецького виробника Bundesdruckerei.",
         "243",
         "200-299",
         "Facebook-wikimatrix-1-eng-ukr-filtered-from-200-to-299",
         "Facebook"
        ],
        [
         "8711",
         "She stated, \"So we come together before you on this day, March 30th, 2015, with one voice in unity in the hopes that today will be another one of those moments in time, a moment that will forever change the course of music history.\"",
         "Вона сказала: «Ми зібралися перед вами в цей день, 30 березня 2015 року, з єдністю, з надією, що сьогодні буде той момент часу, який назавжди змінить хід музичної історії.»",
         "232",
         "200-299",
         "Facebook-wikimatrix-1-eng-ukr-filtered-from-200-to-299",
         "Facebook"
        ],
        [
         "8779",
         "Liberalism also holds that interaction between states is not limited to the political/security (\"high politics\"), but also economic/cultural (\"low politics\") whether through commercial firms, organizations or individuals.",
         "Лібералізм також вважає, що взаємодія між державами не обмежується політичними/захисними («висока політика»), а й економічними/культурними («низька політика») зв'язками, або через комерційні фірми, організації чи приватні особи.",
         "221",
         "200-299",
         "Facebook-wikimatrix-1-eng-ukr-filtered-from-200-to-299",
         "Facebook"
        ],
        [
         "8862",
         "It's nothing you'll expect and nothing you've seen happen but there will be parts of her life that change the context of what you've seen before, so it's telling the other side of the story, of how she came to be.\"",
         "Це не те, що ви очікуєте, і не те, що ви бачили, але там будуть частини її життя, які змінюють контекст того, що ви бачили раніше, так що це розповідь іншої сторони історії, про те, як вона стала собою».",
         "214",
         "200-299",
         "Facebook-wikimatrix-1-eng-ukr-filtered-from-200-to-299",
         "Facebook"
        ],
        [
         "8880",
         "Along with the $4 billion in financial aid and soft credit provided by the US (as well as the indirect economic stimulus of US food and military aid) over the 1945–1965 period, Taiwan had the necessary capital to restart its economy.",
         "Окрім надання фінансової допомоги та м'якого кредиту, наданого США (а також непрямий економічний стимул американської продовольчої та військової допомоги) у 4 мільярди доларів США протягом періоду 1945-1965 років, Тайвань мав необхідний капітал для відновлення економіки.",
         "233",
         "200-299",
         "Facebook-wikimatrix-1-eng-ukr-filtered-from-200-to-299",
         "Facebook"
        ],
        [
         "8887",
         "Although the brutal intervention in Hungary was proof that the student protests in Romania had few chances of success, the organisers believed that the movement had to continue and that the protest had to take place.",
         "Хоча брутальна інтервенція в Угорщину була доказом того, що студентські протести в Румунії мали небагато шансів на успіх, організатори вважали, що рух потрібно продовжувати і що протести повинні відбуватися.",
         "216",
         "200-299",
         "Facebook-wikimatrix-1-eng-ukr-filtered-from-200-to-299",
         "Facebook"
        ],
        [
         "9106",
         "He came to the conclusion that it was only a dialect of the Malay language, since 85% of the Seletar words were Malay, and another 5% of the words are also present in Malay but have a slightly different meaning.",
         "Він прийшов до висновку, що це лише діалект малайської мови, адже 85 % селетарських слів були малайськими, а ще 5 % слів також присутні в малайській мові, але мають трохи інше значення.",
         "211",
         "200-299",
         "Facebook-wikimatrix-1-eng-ukr-filtered-from-200-to-299",
         "Facebook"
        ],
        [
         "9132",
         "They are also considered unconstitutional, since the principle of non-retroactivity is laid down in Article 8 of the Declaration of the Rights of Man and of the Citizen, which has constitutional status under French law.",
         "Вони також вважаються неконституційними, так як принцип неретроактивності встановлений у Статті 8 Декларації прав людини і громадянина, у якого є конституційний статус згідно з французьким законом.",
         "219",
         "200-299",
         "Facebook-wikimatrix-1-eng-ukr-filtered-from-200-to-299",
         "Facebook"
        ],
        [
         "9473",
         "David Gordon's paper, \"Indicators of Poverty and Hunger\", for the United Nations, further defines absolute poverty as the absence of any two of the following eight basic needs: Food: Body mass index must be above 16.",
         "Документ Девіда Гордона «показники бідності і голоду», для Організації Об'єднаних Націй, далі визначає абсолютну бідності як відсутність будь-яких двох з наступних восьми основних потреб: Їжа: Індекс маси тіла повинен перевищувати 16.",
         "216",
         "200-299",
         "Facebook-wikimatrix-1-eng-ukr-filtered-from-200-to-299",
         "Facebook"
        ],
        [
         "9478",
         "I tried visiting various political websites from my hotel room and had no problems, although other human rights groups report that Libya does engage in selective filtering of some political websites critical of the regime.",
         "Я намагався відвідувати різні політичні веб-сайти з мого номера в готелі і не мав жодних проблем, хоча інші Правозахисні групи повідомляють, що Лівія займається вибірковою фільтрацією деяких політичних веб-сайтів, критикуючи режим.",
         "222",
         "200-299",
         "Facebook-wikimatrix-1-eng-ukr-filtered-from-200-to-299",
         "Facebook"
        ],
        [
         "9480",
         "The comment explains key terms and concepts, and includes a short signature by the programmer who authored the code. /* * Check if we are over our maximum process limit, but be sure to * exclude root.",
         "Коментар пояснює основні терміни і поняття, і включає підпис програмістом, який є автором коду. /* * Check if we are over our maximum process limit, but be sure to * exclude root.",
         "200",
         "200-299",
         "Facebook-wikimatrix-1-eng-ukr-filtered-from-200-to-299",
         "Facebook"
        ],
        [
         "9573",
         "Climate change and global warming have become one of the most pressing environmental concerns and the greatest global challenges in society today, despite the fact that a consensus has never been reached in the debates over its causes and consequences.",
         "Зміна клімату та глобальне потепління стали однією з найбільш нагальних екологічних проблем і найбільших глобальних проблем у сучасному суспільстві, незважаючи на те, що консенсус не досягнуто в суперечки про його причини та наслідки.",
         "252",
         "200-299",
         "Facebook-wikimatrix-1-eng-ukr-filtered-from-200-to-299",
         "Facebook"
        ],
        [
         "9587",
         "Socialist Consultative Democracy is the form of democracy that exists in the People's Republic of China, though at least one source says that this form of democracy was created by the Communist Party of China.",
         "Соціалістична консультативна демократія-це форма демократії, яка існує в КНР, хоча принаймні одне джерело каже, що ця форма демократії була створена Комуністична партія Китаю.",
         "209",
         "200-299",
         "Facebook-wikimatrix-1-eng-ukr-filtered-from-200-to-299",
         "Facebook"
        ],
        [
         "9621",
         "In order to achieve this, he and his team made significant changes to the game's combat mechanics, which will include a new system of strategy developed exclusively for the game, as well as changes to the game's internal combat and damage system.",
         "Для досягнення цього він і його команда внесли суттєві зміни в бойову механіку гри, яка включатиме нову систему стратегії, розроблену винятково для гри, а також зміни в системі внутрішньої бойової та пошкодженості гри.",
         "246",
         "200-299",
         "Facebook-wikimatrix-1-eng-ukr-filtered-from-200-to-299",
         "Facebook"
        ],
        [
         "9774",
         "When in 1814 he re-entered the public service, it was only as First Commissioner of Woods and Forests, but his influence was from this time very great in the commercial and financial legislation of the country.",
         "Коли в 1814 році він знову поступив на державну службу, це було тільки як перший комісар лісів та лісів, але його вплив було від цього часу дуже великий в комерційному та фінансовому законодавстві країни.",
         "210",
         "200-299",
         "Facebook-wikimatrix-1-eng-ukr-filtered-from-200-to-299",
         "Facebook"
        ],
        [
         "10058",
         "They concluded that the changes in the atmosphere due to human pollution \"represent a major threat to international security and are already having harmful consequences over many parts of the globe,\" and declared that by 2005 the world should push its emissions some 20% below the 1988 level.",
         "Вони прийшли до висновку, що зміни в атмосфері через людське забруднення «являють собою серйозну загрозу для міжнародної безпеки і вже призводять до згубних наслідків у багатьох частинах земної кулі», і заявили, що до 2005 року світ повинен знизити викиди приблизно на 20 % нижче від рівня 1988 року.",
         "292",
         "200-299",
         "Facebook-wikimatrix-1-eng-ukr-filtered-from-200-to-299",
         "Facebook"
        ]
       ],
       "shape": {
        "columns": 6,
        "rows": 137515
       }
      },
      "text/html": [
       "<div>\n",
       "<style scoped>\n",
       "    .dataframe tbody tr th:only-of-type {\n",
       "        vertical-align: middle;\n",
       "    }\n",
       "\n",
       "    .dataframe tbody tr th {\n",
       "        vertical-align: top;\n",
       "    }\n",
       "\n",
       "    .dataframe thead th {\n",
       "        text-align: right;\n",
       "    }\n",
       "</style>\n",
       "<table border=\"1\" class=\"dataframe\">\n",
       "  <thead>\n",
       "    <tr style=\"text-align: right;\">\n",
       "      <th></th>\n",
       "      <th>english</th>\n",
       "      <th>translated_text</th>\n",
       "      <th>sentence_length</th>\n",
       "      <th>length_range</th>\n",
       "      <th>dataset</th>\n",
       "      <th>translation_source</th>\n",
       "    </tr>\n",
       "  </thead>\n",
       "  <tbody>\n",
       "    <tr>\n",
       "      <th>2262</th>\n",
       "      <td>Triana, Triana qué bonita está Triana, (Triana...</td>\n",
       "      <td>Triana, Triana qué bonita está Triana, (Тріана...</td>\n",
       "      <td>209</td>\n",
       "      <td>200-299</td>\n",
       "      <td>Facebook-wikimatrix-1-eng-ukr-filtered-from-20...</td>\n",
       "      <td>Facebook</td>\n",
       "    </tr>\n",
       "    <tr>\n",
       "      <th>2617</th>\n",
       "      <td>In countries such as Greece and Spain many Bul...</td>\n",
       "      <td>У таких країнах, як Греція та Іспанія, багато ...</td>\n",
       "      <td>218</td>\n",
       "      <td>200-299</td>\n",
       "      <td>Facebook-wikimatrix-1-eng-ukr-filtered-from-20...</td>\n",
       "      <td>Facebook</td>\n",
       "    </tr>\n",
       "    <tr>\n",
       "      <th>4464</th>\n",
       "      <td>For example, Fierlbeck (1998: 12) points out t...</td>\n",
       "      <td>Наприклад, Fierlbeck (1998: 12), вказує, що бі...</td>\n",
       "      <td>225</td>\n",
       "      <td>200-299</td>\n",
       "      <td>Facebook-wikimatrix-1-eng-ukr-filtered-from-20...</td>\n",
       "      <td>Facebook</td>\n",
       "    </tr>\n",
       "    <tr>\n",
       "      <th>4792</th>\n",
       "      <td>2003 was the first time in fifty years that la...</td>\n",
       "      <td>2003 року вперше за п'ятдесят років закони, що...</td>\n",
       "      <td>229</td>\n",
       "      <td>200-299</td>\n",
       "      <td>Facebook-wikimatrix-1-eng-ukr-filtered-from-20...</td>\n",
       "      <td>Facebook</td>\n",
       "    </tr>\n",
       "    <tr>\n",
       "      <th>4841</th>\n",
       "      <td>According to the energy Progress Reports submi...</td>\n",
       "      <td>Згідно зі звітами про енергетичну діяльність, ...</td>\n",
       "      <td>216</td>\n",
       "      <td>200-299</td>\n",
       "      <td>Facebook-wikimatrix-1-eng-ukr-filtered-from-20...</td>\n",
       "      <td>Facebook</td>\n",
       "    </tr>\n",
       "    <tr>\n",
       "      <th>...</th>\n",
       "      <td>...</td>\n",
       "      <td>...</td>\n",
       "      <td>...</td>\n",
       "      <td>...</td>\n",
       "      <td>...</td>\n",
       "      <td>...</td>\n",
       "    </tr>\n",
       "    <tr>\n",
       "      <th>2576298</th>\n",
       "      <td>Both of these men were drawing from the rather...</td>\n",
       "      <td>Вершники з'являються строго один за одним, кож...</td>\n",
       "      <td>210</td>\n",
       "      <td>200-299</td>\n",
       "      <td>Facebook-wikimatrix-1-eng-ukr-filtered-from-20...</td>\n",
       "      <td>Facebook</td>\n",
       "    </tr>\n",
       "    <tr>\n",
       "      <th>2576334</th>\n",
       "      <td>Historically, the offensive halfback was simil...</td>\n",
       "      <td>Коли спить, він зазвичай згортається, як кішка...</td>\n",
       "      <td>278</td>\n",
       "      <td>200-299</td>\n",
       "      <td>Facebook-wikimatrix-1-eng-ukr-filtered-from-20...</td>\n",
       "      <td>Facebook</td>\n",
       "    </tr>\n",
       "    <tr>\n",
       "      <th>2576382</th>\n",
       "      <td>The film was voted one of the twelve greatest ...</td>\n",
       "      <td>У 1958 року фільм було включено до списку 12-т...</td>\n",
       "      <td>232</td>\n",
       "      <td>200-299</td>\n",
       "      <td>Facebook-wikimatrix-1-eng-ukr-filtered-from-20...</td>\n",
       "      <td>Facebook</td>\n",
       "    </tr>\n",
       "    <tr>\n",
       "      <th>2576387</th>\n",
       "      <td>This extravagance is consistent with their dem...</td>\n",
       "      <td>Це заважає всім, хто зовні (з ворожими чи будь...</td>\n",
       "      <td>275</td>\n",
       "      <td>200-299</td>\n",
       "      <td>Facebook-wikimatrix-1-eng-ukr-filtered-from-20...</td>\n",
       "      <td>Facebook</td>\n",
       "    </tr>\n",
       "    <tr>\n",
       "      <th>2576404</th>\n",
       "      <td>We know it is a later Rome because the emperor...</td>\n",
       "      <td>Праця Тімея мала значний вплив на наступних іс...</td>\n",
       "      <td>277</td>\n",
       "      <td>200-299</td>\n",
       "      <td>Facebook-wikimatrix-1-eng-ukr-filtered-from-20...</td>\n",
       "      <td>Facebook</td>\n",
       "    </tr>\n",
       "  </tbody>\n",
       "</table>\n",
       "<p>137515 rows × 6 columns</p>\n",
       "</div>"
      ],
      "text/plain": [
       "                                                   english  \\\n",
       "2262     Triana, Triana qué bonita está Triana, (Triana...   \n",
       "2617     In countries such as Greece and Spain many Bul...   \n",
       "4464     For example, Fierlbeck (1998: 12) points out t...   \n",
       "4792     2003 was the first time in fifty years that la...   \n",
       "4841     According to the energy Progress Reports submi...   \n",
       "...                                                    ...   \n",
       "2576298  Both of these men were drawing from the rather...   \n",
       "2576334  Historically, the offensive halfback was simil...   \n",
       "2576382  The film was voted one of the twelve greatest ...   \n",
       "2576387  This extravagance is consistent with their dem...   \n",
       "2576404  We know it is a later Rome because the emperor...   \n",
       "\n",
       "                                           translated_text  sentence_length  \\\n",
       "2262     Triana, Triana qué bonita está Triana, (Тріана...              209   \n",
       "2617     У таких країнах, як Греція та Іспанія, багато ...              218   \n",
       "4464     Наприклад, Fierlbeck (1998: 12), вказує, що бі...              225   \n",
       "4792     2003 року вперше за п'ятдесят років закони, що...              229   \n",
       "4841     Згідно зі звітами про енергетичну діяльність, ...              216   \n",
       "...                                                    ...              ...   \n",
       "2576298  Вершники з'являються строго один за одним, кож...              210   \n",
       "2576334  Коли спить, він зазвичай згортається, як кішка...              278   \n",
       "2576382  У 1958 року фільм було включено до списку 12-т...              232   \n",
       "2576387  Це заважає всім, хто зовні (з ворожими чи будь...              275   \n",
       "2576404  Праця Тімея мала значний вплив на наступних іс...              277   \n",
       "\n",
       "        length_range                                            dataset  \\\n",
       "2262         200-299  Facebook-wikimatrix-1-eng-ukr-filtered-from-20...   \n",
       "2617         200-299  Facebook-wikimatrix-1-eng-ukr-filtered-from-20...   \n",
       "4464         200-299  Facebook-wikimatrix-1-eng-ukr-filtered-from-20...   \n",
       "4792         200-299  Facebook-wikimatrix-1-eng-ukr-filtered-from-20...   \n",
       "4841         200-299  Facebook-wikimatrix-1-eng-ukr-filtered-from-20...   \n",
       "...              ...                                                ...   \n",
       "2576298      200-299  Facebook-wikimatrix-1-eng-ukr-filtered-from-20...   \n",
       "2576334      200-299  Facebook-wikimatrix-1-eng-ukr-filtered-from-20...   \n",
       "2576382      200-299  Facebook-wikimatrix-1-eng-ukr-filtered-from-20...   \n",
       "2576387      200-299  Facebook-wikimatrix-1-eng-ukr-filtered-from-20...   \n",
       "2576404      200-299  Facebook-wikimatrix-1-eng-ukr-filtered-from-20...   \n",
       "\n",
       "        translation_source  \n",
       "2262              Facebook  \n",
       "2617              Facebook  \n",
       "4464              Facebook  \n",
       "4792              Facebook  \n",
       "4841              Facebook  \n",
       "...                    ...  \n",
       "2576298           Facebook  \n",
       "2576334           Facebook  \n",
       "2576382           Facebook  \n",
       "2576387           Facebook  \n",
       "2576404           Facebook  \n",
       "\n",
       "[137515 rows x 6 columns]"
      ]
     },
     "execution_count": 17,
     "metadata": {},
     "output_type": "execute_result"
    }
   ],
   "source": [
    "filtered_df"
   ]
  },
  {
   "cell_type": "code",
   "execution_count": 18,
   "id": "d30222d4",
   "metadata": {},
   "outputs": [
    {
     "name": "stderr",
     "output_type": "stream",
     "text": [
      "/tmp/ipykernel_506502/2795277482.py:9: SettingWithCopyWarning: \n",
      "A value is trying to be set on a copy of a slice from a DataFrame.\n",
      "Try using .loc[row_indexer,col_indexer] = value instead\n",
      "\n",
      "See the caveats in the documentation: https://pandas.pydata.org/pandas-docs/stable/user_guide/indexing.html#returning-a-view-versus-a-copy\n",
      "  filtered_df[\"dataset\"] = \"Facebook-wikimatrix-1-eng-ukr-filtered-from-200-to-299\"\n",
      "/tmp/ipykernel_506502/2795277482.py:10: SettingWithCopyWarning: \n",
      "A value is trying to be set on a copy of a slice from a DataFrame.\n",
      "Try using .loc[row_indexer,col_indexer] = value instead\n",
      "\n",
      "See the caveats in the documentation: https://pandas.pydata.org/pandas-docs/stable/user_guide/indexing.html#returning-a-view-versus-a-copy\n",
      "  filtered_df[\"translation_source\"] = \"Facebook\"\n",
      "/tmp/ipykernel_506502/2795277482.py:12: SettingWithCopyWarning: \n",
      "A value is trying to be set on a copy of a slice from a DataFrame\n",
      "\n",
      "See the caveats in the documentation: https://pandas.pydata.org/pandas-docs/stable/user_guide/indexing.html#returning-a-view-versus-a-copy\n",
      "  filtered_df.rename(columns={\n",
      "/tmp/ipykernel_506502/2795277482.py:33: SettingWithCopyWarning: \n",
      "A value is trying to be set on a copy of a slice from a DataFrame.\n",
      "Try using .loc[row_indexer,col_indexer] = value instead\n",
      "\n",
      "See the caveats in the documentation: https://pandas.pydata.org/pandas-docs/stable/user_guide/indexing.html#returning-a-view-versus-a-copy\n",
      "  filtered_df[\"input\"] = filtered_df[\"source_text\"].apply(lambda x: generate_translation_prompt(x, source_language_name, target_language_name))\n",
      "/tmp/ipykernel_506502/2795277482.py:34: SettingWithCopyWarning: \n",
      "A value is trying to be set on a copy of a slice from a DataFrame.\n",
      "Try using .loc[row_indexer,col_indexer] = value instead\n",
      "\n",
      "See the caveats in the documentation: https://pandas.pydata.org/pandas-docs/stable/user_guide/indexing.html#returning-a-view-versus-a-copy\n",
      "  filtered_df[\"index\"] = filtered_df.index\n"
     ]
    }
   ],
   "source": [
    "from langchain.prompts import PromptTemplate\n",
    "\n",
    "\n",
    "source_language_name = \"English\"\n",
    "target_language_name = \"Ukrainian\"\n",
    "source_language_abbreviation = \"en\"\n",
    "target_language_abbreviation = \"ukr\"\n",
    "\n",
    "filtered_df[\"dataset\"] = \"Facebook-wikimatrix-1-eng-ukr-filtered-from-200-to-299\"\n",
    "filtered_df[\"translation_source\"] = \"Facebook\"\n",
    "\n",
    "filtered_df.rename(columns={\n",
    "    'english': 'source_text',\n",
    "    'ukrainian': 'translated_text'\n",
    "}, inplace=True)\n",
    "\n",
    "def generate_translation_prompt(text, language_1, language_2):\n",
    "    \"\"\"Generate a translation prompt.\"\"\"\n",
    "    prompt_template = \"\"\"Please translate the following {language_1} text into {language_2}. Please answer me with only translated text!\n",
    "\n",
    "    ---------------------------------- Text to be translated ----------------------------------\n",
    "\n",
    "    {text}\n",
    "\n",
    "    ---------------------------------- Text to be translated ----------------------------------\n",
    "    \"\"\"\n",
    "    translation_prompt = PromptTemplate(\n",
    "        input_variables=[\"language_1\", \"language_2\", \"text\"],\n",
    "        template=prompt_template\n",
    "    )\n",
    "    return translation_prompt.format(language_1=language_1, language_2=language_2, text=text)\n",
    "\n",
    "filtered_df[\"input\"] = filtered_df[\"source_text\"].apply(lambda x: generate_translation_prompt(x, source_language_name, target_language_name))\n",
    "filtered_df[\"index\"] = filtered_df.index"
   ]
  },
  {
   "cell_type": "code",
   "execution_count": 20,
   "id": "4c149ae2",
   "metadata": {},
   "outputs": [
    {
     "name": "stdout",
     "output_type": "stream",
     "text": [
      "Train size: 123763\n",
      "Val size: 13752\n"
     ]
    }
   ],
   "source": [
    "from sklearn.model_selection import train_test_split\n",
    "\n",
    "train_df, val_df = train_test_split(\n",
    "    filtered_df,\n",
    "    test_size=0.1,\n",
    "    random_state=42, \n",
    "    shuffle=True\n",
    ")\n",
    "\n",
    "print(f\"Train size: {len(train_df)}\")\n",
    "print(f\"Val size: {len(val_df)}\")\n"
   ]
  },
  {
   "cell_type": "code",
   "execution_count": 21,
   "id": "5e54d6f5",
   "metadata": {},
   "outputs": [],
   "source": [
    "\n",
    "train_df.to_json(f\"/home/snt/projects_lujun/mt_luxembourgish/data/datasets_general/dataset_train_{source_language_abbreviation}_{target_language_abbreviation}.jsonl\", lines=True, orient=\"records\")"
   ]
  },
  {
   "cell_type": "code",
   "execution_count": 22,
   "id": "35d0b116",
   "metadata": {},
   "outputs": [],
   "source": [
    "\n",
    "val_df.to_json(f\"/home/snt/projects_lujun/mt_luxembourgish/data/datasets_general/dataset_val_{source_language_abbreviation}_{target_language_abbreviation}.jsonl\", lines=True, orient=\"records\")"
   ]
  },
  {
   "cell_type": "code",
   "execution_count": null,
   "id": "28ecc2bf",
   "metadata": {},
   "outputs": [],
   "source": []
  }
 ],
 "metadata": {
  "kernelspec": {
   "display_name": "mt_lux_env",
   "language": "python",
   "name": "python3"
  },
  "language_info": {
   "codemirror_mode": {
    "name": "ipython",
    "version": 3
   },
   "file_extension": ".py",
   "mimetype": "text/x-python",
   "name": "python",
   "nbconvert_exporter": "python",
   "pygments_lexer": "ipython3",
   "version": "3.9.18"
  }
 },
 "nbformat": 4,
 "nbformat_minor": 5
}
